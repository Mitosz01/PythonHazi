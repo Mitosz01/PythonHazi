{
 "cells": [
  {
   "cell_type": "code",
   "execution_count": 1,
   "id": "b8c1e3fe",
   "metadata": {},
   "outputs": [],
   "source": [
    "import pandas as pd\n",
    "import numpy as np\n",
    "import matplotlib as plt \n",
    "import seaborn as sns\n",
    "import random as rd "
   ]
  },
  {
   "cell_type": "code",
   "execution_count": 2,
   "id": "73303b49",
   "metadata": {},
   "outputs": [
    {
     "name": "stdout",
     "output_type": "stream",
     "text": [
      "A LKYEOR Neptun kód megfelelő!\n",
      "\n",
      "Név: Kiss Bendegúz Barnabás \n",
      "Neptun kód: LKYEOR \n",
      "Generált szám: 2068\n"
     ]
    }
   ],
   "source": [
    "# 1. feladat\n",
    "# == értékek felvitele ==\n",
    "Név = 'Kiss Bendegúz Barnabás'\n",
    "Neptun_kód = 'LKYEOR'\n",
    "randint = 42\n",
    "\n",
    "# == a neptunkód ellenőrzése ==\n",
    "if len(Neptun_kód) != 6 or Neptun_kód.upper() != Neptun_kód: #6tagú?, nagybetűvel írt?\n",
    "    print(f'A {Neptun_kód} Helytelen Neptun kód! A Neptun kódnak 6 karakterből kell állnia és végig nagybetűnek kell lennie!')\n",
    "else:\n",
    "    print(f'A {Neptun_kód} Neptun kód megfelelő!')\n",
    "\n",
    "# == a stringek felbontása ==\n",
    "list_Név = list(Név)\n",
    "list_Neptun_kód = list(Neptun_kód)\n",
    "\n",
    "# == feladat által közölt módosítások ==\n",
    "del list_Név[3]\n",
    "del list_Neptun_kód[-1]\n",
    "list_Neptun_kód.append(list_Név[-1])\n",
    "\n",
    "# == a dict létrehozása az ord() függvénnyel ==\n",
    "l1 = list_Neptun_kód + list_Név\n",
    "dict = {f'{i}': ord(i) for i in l1}\n",
    "\n",
    "# == a dict módosítása indexelés alapján ==\n",
    "for i, key in enumerate(dict):\n",
    "    #print(i,  key) # az i -> indexeket jelöli, addig a key -> a dict \"tagjait\"\n",
    "    if i % 2 == 0: \n",
    "        dict[key] += randint\n",
    "    else:\n",
    "        dict[key] -= randint\n",
    "\n",
    "\n",
    "# == a generált szám -> összeadjuk a dict összes value-át ==\n",
    "generated_number = 0\n",
    "for i in dict:\n",
    "    generated_number += dict[i]\n",
    "\n",
    "print(f'\\nNév: {Név} \\nNeptun kód: {Neptun_kód} \\nGenerált szám: {generated_number}')\n",
    "\n",
    "\n"
   ]
  },
  {
   "cell_type": "markdown",
   "id": "bcf3e3cd",
   "metadata": {},
   "source": [
    "Hihihá"
   ]
  },
  {
   "cell_type": "code",
   "execution_count": null,
   "id": "6ed498ea",
   "metadata": {},
   "outputs": [],
   "source": [
    "# 2. feladat\n"
   ]
  }
 ],
 "metadata": {
  "kernelspec": {
   "display_name": "base",
   "language": "python",
   "name": "python3"
  },
  "language_info": {
   "codemirror_mode": {
    "name": "ipython",
    "version": 3
   },
   "file_extension": ".py",
   "mimetype": "text/x-python",
   "name": "python",
   "nbconvert_exporter": "python",
   "pygments_lexer": "ipython3",
   "version": "3.12.7"
  }
 },
 "nbformat": 4,
 "nbformat_minor": 5
}
