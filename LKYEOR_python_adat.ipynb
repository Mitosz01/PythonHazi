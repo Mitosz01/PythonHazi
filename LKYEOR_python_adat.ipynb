{
 "cells": [
  {
   "cell_type": "code",
   "execution_count": 1,
   "id": "b8c1e3fe",
   "metadata": {},
   "outputs": [],
   "source": [
    "import pandas as pd\n",
    "import numpy as np\n",
    "import matplotlib as plt \n",
    "import seaborn as sns\n",
    "import random as rd "
   ]
  },
  {
   "cell_type": "markdown",
   "id": "56624d0d",
   "metadata": {},
   "source": [
    "# 1. Feladat"
   ]
  },
  {
   "cell_type": "code",
   "execution_count": 2,
   "id": "73303b49",
   "metadata": {},
   "outputs": [
    {
     "name": "stdout",
     "output_type": "stream",
     "text": [
      "A LKYEOR Neptun kód megfelelő!\n",
      "\n",
      "Név: Kiss Bendegúz Barnabás \n",
      "Neptun kód: LKYEOR \n",
      "Generált szám: 2068\n"
     ]
    }
   ],
   "source": [
    "# 1. feladat\n",
    "# == értékek felvitele ==\n",
    "Név = 'Kiss Bendegúz Barnabás'\n",
    "Neptun_kód = 'LKYEOR'\n",
    "randint = 42\n",
    "\n",
    "# == a neptunkód ellenőrzése ==\n",
    "if len(Neptun_kód) != 6 or Neptun_kód.upper() != Neptun_kód: #6tagú?, nagybetűvel írt?\n",
    "    print(f'A {Neptun_kód} Helytelen Neptun kód! A Neptun kódnak 6 karakterből kell állnia és végig nagybetűnek kell lennie!')\n",
    "else:\n",
    "    print(f'A {Neptun_kód} Neptun kód megfelelő!')\n",
    "\n",
    "# == a stringek felbontása ==\n",
    "list_Név = list(Név)\n",
    "list_Neptun_kód = list(Neptun_kód)\n",
    "\n",
    "# == feladat által közölt módosítások ==\n",
    "del list_Név[3]\n",
    "del list_Neptun_kód[-1]\n",
    "list_Neptun_kód.append(list_Név[-1])\n",
    "\n",
    "# == a dict létrehozása az ord() függvénnyel ==\n",
    "l1 = list_Neptun_kód + list_Név\n",
    "dict = {f'{i}': ord(i) for i in l1}\n",
    "\n",
    "# == a dict módosítása indexelés alapján ==\n",
    "for i, key in enumerate(dict):\n",
    "    #print(i,  key) # az i -> indexeket jelöli, addig a key -> a dict \"tagjait\"\n",
    "    if i % 2 == 0: \n",
    "        dict[key] += randint\n",
    "    else:\n",
    "        dict[key] -= randint\n",
    "\n",
    "\n",
    "# == a generált szám -> összeadjuk a dict összes value-át ==\n",
    "generated_number = 0\n",
    "for i in dict:\n",
    "    generated_number += dict[i]\n",
    "\n",
    "print(f'\\nNév: {Név} \\nNeptun kód: {Neptun_kód} \\nGenerált szám: {generated_number}')\n",
    "\n",
    "\n"
   ]
  },
  {
   "cell_type": "markdown",
   "id": "bcf3e3cd",
   "metadata": {},
   "source": [
    "# 2. Feladat\n",
    "## 2.1-2. \n",
    "- 2.1 A random state-t a generated_number fogja megadni, ez lesz a random választásnak a seedje, tehát így a random választás reprodukálható lesz az adott generált számmal. "
   ]
  },
  {
   "cell_type": "code",
   "execution_count": null,
   "id": "6ed498ea",
   "metadata": {},
   "outputs": [
    {
     "name": "stdout",
     "output_type": "stream",
     "text": [
      "2000 Random mintavétel a sokaságból és ehhez a kezdeti adatból első 20-at adtunk\n"
     ]
    }
   ],
   "source": [
    "# 2. feladat\n",
    "data_vegyesz = pd.read_csv('hf_data_vegyesz.csv')\n",
    "sampled_data = data_vegyesz.sample(n=2000, random_state=generated_number) # a random statet a feladatban generált random számra állítottam\n",
    "\n",
    "\n",
    "temp = data_vegyesz.drop(sampled_data.index) # a temp az a dataframe ahol nincs ugyanolyan indexű elem, mint a sampled_data és a data_vegyeszben\n",
    "temp1 = temp.head(20) # az első 20 sort töltöm be a temp1-be\n",
    "sampled_data = pd.concat([sampled_data,temp1]) # konkatálása a két dataframe-nek a sampled_data-ra\n",
    "\n",
    "print(f'{len(sampled_data.index)-len(temp1.index)} Random mintavétel a sokaságból és ehhez a kezdeti adatból első {len(temp1.index)}-at adtunk')"
   ]
  },
  {
   "cell_type": "markdown",
   "id": "66f3bf2c",
   "metadata": {},
   "source": [
    "## 2.3"
   ]
  },
  {
   "cell_type": "code",
   "execution_count": 63,
   "id": "84c88e0e",
   "metadata": {},
   "outputs": [
    {
     "name": "stdout",
     "output_type": "stream",
     "text": [
      "Mennyi sora és oszlopa van az adathalmaznak? \n",
      "Sorok száma:2020 \n",
      "Oszlopok száma: 12\n",
      "4\n",
      "8\n"
     ]
    }
   ],
   "source": [
    "print(f'Mennyi sora és oszlopa van az adathalmaznak? \\nSorok száma:{len(sampled_data.index)} \\nOszlopok száma: {len(sampled_data.columns)}')\n",
    "\n",
    "# Egyedi értékek számlálása minden oszlopban\n",
    "unique_counts = sampled_data.nunique().sort_values()\n",
    "\n",
    "# Megjelenítés táblázatos formában\n",
    "unique_counts_df = pd.DataFrame({\n",
    "    \"Oszlopnév\": unique_counts.index,\n",
    "    \"Egyedi értékek száma\": unique_counts.values\n",
    "})\n",
    "\n",
    "#ahol több mint 10 egyedi érték van azt számmal mért értéknek vesszük\n",
    "számmal_mért_oszlopok = 0\n",
    "minőségi_oszlopok = 0\n",
    "for i in unique_counts.values:\n",
    "    if i > 10:\n",
    "        számmal_mért_oszlopok += 1\n",
    "    else:\n",
    "        minőségi_oszlopok += 1\n",
    "print(számmal_mért_oszlopok)\n",
    "print(minőségi_oszlopok)\n"
   ]
  }
 ],
 "metadata": {
  "kernelspec": {
   "display_name": "Test",
   "language": "python",
   "name": "python3"
  },
  "language_info": {
   "codemirror_mode": {
    "name": "ipython",
    "version": 3
   },
   "file_extension": ".py",
   "mimetype": "text/x-python",
   "name": "python",
   "nbconvert_exporter": "python",
   "pygments_lexer": "ipython3",
   "version": "3.12.9"
  }
 },
 "nbformat": 4,
 "nbformat_minor": 5
}
